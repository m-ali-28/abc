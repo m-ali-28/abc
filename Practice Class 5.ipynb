{
 "cells": [
  {
   "cell_type": "code",
   "execution_count": 5,
   "metadata": {},
   "outputs": [
    {
     "name": "stdout",
     "output_type": "stream",
     "text": [
      "4803 Wellesley St.\n",
      "Iceland\n"
     ]
    }
   ],
   "source": [
    "customer_29876 = {\"first name\": \"David\", \"last name\": \"Elliott\", \"address\": \"4803 Wellesley St.\"}\n",
    "address_of_customer = customer_29876[\"address\"]\n",
    "print(address_of_customer)\n",
    "rankings = {5: \"Finland\", 2: \"Norway\", 3: \"Sweden\", \"7\": \"Iceland\"}\n",
    "print(rankings['7'])"
   ]
  },
  {
   "cell_type": "code",
   "execution_count": 9,
   "metadata": {},
   "outputs": [
    {
     "name": "stdout",
     "output_type": "stream",
     "text": [
      "{0: 'the lowest number', 'a dozen': 12, 'snake eyes': 'a pair of ones', 13: \"a baker's dozen\"}\n",
      "{0: 'the lowest number', 'a dozen': 12, 'snake eyes': 'a pair of ones', 13: \"a baker's dozen\", 'newTask': \"my python's data\"}\n",
      "{0: 'the lowest number', 'a dozen': 12, 13: \"a baker's dozen\", 'newTask': \"my python's data\"}\n"
     ]
    }
   ],
   "source": [
    " things_to_remember = { 0: \"the lowest number\", \"a dozen\": 12, \"snake eyes\": \"a pair of ones\",\n",
    " 13: \"a baker's dozen\", }\n",
    "print(things_to_remember)\n",
    "things_to_remember[\"newTask\"]=\"my python's data\"\n",
    "print(things_to_remember)\n",
    "del things_to_remember[\"snake eyes\"]\n",
    "print(things_to_remember)"
   ]
  },
  {
   "cell_type": "code",
   "execution_count": 10,
   "metadata": {},
   "outputs": [
    {
     "name": "stdout",
     "output_type": "stream",
     "text": [
      "David\n",
      "Elliott\n",
      "4803 Wellesley St.\n",
      "---------\n",
      "key first name value David\n",
      "key last name value Elliott\n",
      "key address value 4803 Wellesley St.\n",
      "---------\n",
      "key first name\n",
      "key last name\n",
      "key address\n"
     ]
    }
   ],
   "source": [
    "student = {\"first name\": \"David\", \"last name\": \"Elliott\", \"address\": \"4803 Wellesley St.\"}\n",
    "\n",
    "for each_value in student.values():\n",
    "    print(each_value)\n",
    "print(\"---------\")\n",
    "for k, v in student.items():\n",
    "    print(\"key\", k, \"value\", v)\n",
    "print(\"---------\")\n",
    "for k in student.keys():\n",
    "    print(\"key\", k)"
   ]
  },
  {
   "cell_type": "code",
   "execution_count": 22,
   "metadata": {},
   "outputs": [
    {
     "name": "stdout",
     "output_type": "stream",
     "text": [
      "[{'first name': 'David', 'last name': 'Elliott', 'address': '4803 Wellesley St.'}, {'first name': 'Navid', 'last name': 'Smith', 'address': '4501 Wellesley St.'}]\n",
      "------------------\n",
      "[{'first name': 'Navid', 'last name': 'Smith', 'address': '4501 Wellesley St.'}, {'first name': 'David', 'last name': 'Elliott', 'address': '4803 Wellesley St.'}]\n"
     ]
    }
   ],
   "source": [
    "customer_29876 = {\"first name\": \"David\", \"last name\": \"Elliott\", \"address\": \"4803 Wellesley St.\"}\n",
    "customer_29877 = {\"first name\": \"Navid\", \"last name\": \"Smith\", \"address\": \"4501 Wellesley St.\"}\n",
    "\n",
    "customer = []\n",
    "customer.append(customer_29876)\n",
    "customer.append(customer_29877)\n",
    "print(customer)\n",
    "print(\"------------------\")\n",
    "\n",
    "customer = [customer_29877, customer_29876]\n",
    "print(customer)\n",
    "#print(customer{customer_29877})\n"
   ]
  },
  {
   "cell_type": "code",
   "execution_count": 24,
   "metadata": {},
   "outputs": [
    {
     "ename": "SyntaxError",
     "evalue": "invalid syntax (<ipython-input-24-1c5003b6d9e2>, line 20)",
     "output_type": "error",
     "traceback": [
      "\u001b[1;36m  File \u001b[1;32m\"<ipython-input-24-1c5003b6d9e2>\"\u001b[1;36m, line \u001b[1;32m20\u001b[0m\n\u001b[1;33m    }\u001b[0m\n\u001b[1;37m    ^\u001b[0m\n\u001b[1;31mSyntaxError\u001b[0m\u001b[1;31m:\u001b[0m invalid syntax\n"
     ]
    }
   ],
   "source": [
    " customers = [\n",
    " {\n",
    " \"customer id\": 0,\n",
    " \"first name\":\"John\",\n",
    " \"last name\": \"Ogden\",\n",
    " \"address\": \"301 Arbor Rd.\",\n",
    " },\n",
    " {\n",
    " \"customer id\": 1,\n",
    " \"first name\":\"Ann\",\n",
    " \"last name\": \"Sattermyer\",\n",
    " \"address\": \"PO Box 1145\",\n",
    " },\n",
    " {\n",
    " \"customer id\": 2,\n",
    " \"first name\":\"Jill\",\n",
    " \"last name\": \"Somers\",\n",
    " \"address\": \"3 Main St.\",\n",
    " },\n",
    " }\n",
    "print(customers)\n",
    "print(customers[2][\"address\"])\n",
    "dic = customers[2]\n",
    "print(dic[\"address\"])"
   ]
  },
  {
   "cell_type": "raw",
   "metadata": {},
   "source": [
    "convert excel file into csv. file type to upload in python"
   ]
  },
  {
   "cell_type": "code",
   "execution_count": 30,
   "metadata": {},
   "outputs": [
    {
     "name": "stdout",
     "output_type": "stream",
     "text": [
      "{0: {'first name': 'John', 'last name': 'Ogden', 'address': '301 Arbor Rd.'}, 1: {'first name': 'Ann', 'last name': 'Sattermyer', 'address': 'PO Box 1145'}, 'abc': {'first name': 'Jill', 'last name': 'Somers', 'address': '3 Main St.'}}\n",
      "{'first name': 'Ann', 'last name': 'Sattermyer', 'address': 'PO Box 1145'}\n",
      "3 Main St.\n"
     ]
    }
   ],
   "source": [
    "customers = {\n",
    " 0: {\n",
    " \n",
    " \"first name\":\"John\",\n",
    " \"last name\": \"Ogden\",\n",
    " \"address\": \"301 Arbor Rd.\",\n",
    " },\n",
    " 1: {\n",
    " \n",
    " \"first name\":\"Ann\",\n",
    " \"last name\": \"Sattermyer\",\n",
    " \"address\": \"PO Box 1145\",\n",
    " },\n",
    " \"abc\": {\n",
    " \n",
    " \"first name\":\"Jill\",\n",
    " \"last name\": \"Somers\",\n",
    " \"address\": \"3 Main St.\",\n",
    " },\n",
    "}\n",
    "print(customers)\n",
    "print(customers[1])\n",
    "print(customers[\"abc\"][\"address\"])"
   ]
  },
  {
   "cell_type": "code",
   "execution_count": 37,
   "metadata": {},
   "outputs": [
    {
     "name": "stdout",
     "output_type": "stream",
     "text": [
      "5\n"
     ]
    }
   ],
   "source": [
    "def add_numbers():\n",
    "    first_number = 2\n",
    "    second_number = 3\n",
    "    total = first_number + second_number\n",
    "    print(total)\n",
    "\n",
    "add_numbers()"
   ]
  },
  {
   "cell_type": "code",
   "execution_count": 39,
   "metadata": {},
   "outputs": [
    {
     "name": "stdout",
     "output_type": "stream",
     "text": [
      "5\n",
      "14\n"
     ]
    }
   ],
   "source": [
    "def add_numbers(x,y):\n",
    "    first_number = x\n",
    "    second_number = y\n",
    "    total = first_number + second_number\n",
    "    print(total)\n",
    "\n",
    "add_numbers(2,3)\n",
    "add_numbers(4,10)"
   ]
  },
  {
   "cell_type": "code",
   "execution_count": 43,
   "metadata": {},
   "outputs": [
    {
     "name": "stdout",
     "output_type": "stream",
     "text": [
      "4.0548\n",
      "16.0\n",
      "8.0\n",
      "8.1096\n",
      "5.0685\n",
      "5.0685\n",
      "4.0548\n",
      "5.0685\n"
     ]
    }
   ],
   "source": [
    "def calc_tax(sales_total=101.37, tax_rate=.04):\n",
    "    print(sales_total * tax_rate)\n",
    "\n",
    "#positional parameter passing\n",
    "calc_tax()\n",
    "calc_tax(200, .08)\n",
    "calc_tax(200)\n",
    "calc_tax(101.37, .08)\n",
    "#named parameter passing\n",
    "calc_tax(sales_total=101.37, tax_rate=.05)\n",
    "calc_tax(tax_rate=.05, sales_total=101.37)\n",
    "calc_tax(sales_total=101.37)\n",
    "calc_tax(tax_rate=.05)\n",
    "\n",
    "\n"
   ]
  },
  {
   "cell_type": "code",
   "execution_count": 44,
   "metadata": {},
   "outputs": [
    {
     "name": "stdout",
     "output_type": "stream",
     "text": [
      "Somers\n"
     ]
    }
   ],
   "source": [
    "customers = {\n",
    "0: {\n",
    "\"first name\":\"John\",\n",
    "\"last name\": \"Ogden\",\n",
    "\"address\": \"301 Arbor Rd.\",\n",
    "},\n",
    "1: {\n",
    "\"first name\":\"Ann\",\n",
    "\"last name\": \"Sattermyer\",\n",
    "\"address\": \"PO Box 1145\",\n",
    "},\n",
    "2: {\n",
    "\"first name\":\"Jill\",\n",
    "\"last name\": \"Somers\",\n",
    "\"address\": \"3 Main St.\",\n",
    "},\n",
    "}\n",
    "\n",
    "def find_something(dict, inner_dict, target):\n",
    "    print(dict[inner_dict][target])\n",
    "\n",
    "find_something(customers, 2, \"last name\")\n",
    "\n"
   ]
  },
  {
   "cell_type": "code",
   "execution_count": null,
   "metadata": {},
   "outputs": [],
   "source": []
  }
 ],
 "metadata": {
  "kernelspec": {
   "display_name": "Python 3",
   "language": "python",
   "name": "python3"
  },
  "language_info": {
   "codemirror_mode": {
    "name": "ipython",
    "version": 3
   },
   "file_extension": ".py",
   "mimetype": "text/x-python",
   "name": "python",
   "nbconvert_exporter": "python",
   "pygments_lexer": "ipython3",
   "version": "3.7.3"
  }
 },
 "nbformat": 4,
 "nbformat_minor": 2
}
